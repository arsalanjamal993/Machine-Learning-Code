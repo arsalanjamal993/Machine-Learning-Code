{
 "cells": [
  {
   "cell_type": "code",
   "execution_count": null,
   "id": "bb3497ae",
   "metadata": {},
   "outputs": [],
   "source": [
    "from sklearn.linear_model import LogisticRegression\n",
    "\n",
    "x = [[1], [2], [3], [4], [5]] #hour studied\n",
    "y = [0, 0, 1, 1, 1] #result 0 F, 1 P\n",
    "\n",
    "model = LogisticRegression()\n",
    "\n",
    "model.fit(x, y)\n",
    "\n",
    "hours = float(input(\"Enter how many hours you studies = \"))\n",
    "\n",
    "result = model.predict([[hours]])[0]\n",
    "\n",
    "if result == 1:\n",
    "    print(f\"Based on hours {hours} you are likey to Pass\")\n",
    "\n",
    "else:\n",
    "    print(f\"Based on hours {hours} you are likey to Fail\")\n"
   ]
  },
  {
   "cell_type": "code",
   "execution_count": 18,
   "id": "71f76e92",
   "metadata": {},
   "outputs": [
    {
     "name": "stdout",
     "output_type": "stream",
     "text": [
      "Email is'nt SPAM\n"
     ]
    }
   ],
   "source": [
    "# Practice 1: Email Spam Detection\n",
    "from sklearn.linear_model import LogisticRegression\n",
    "\n",
    "X = [[5], [10], [15], [20], [25]]   # number of suspicious keywords\n",
    "y = [0, 0, 1, 1, 1]                 # 0 = Not Spam, 1 = Spam\n",
    "\n",
    "model = LogisticRegression()\n",
    "\n",
    "model.fit(X,y)\n",
    "\n",
    "keywords = int(input(\"Enter number of suspicious keywords in your email: \"))\n",
    "\n",
    "\n",
    "result = model.predict([[keywords]])[0]  #correct\n",
    "\n",
    "if result == 1:\n",
    "    print(\"Email is SPAM!\")\n",
    "\n",
    "else:\n",
    "    print(\"Email is'nt SPAM\")"
   ]
  },
  {
   "cell_type": "code",
   "execution_count": null,
   "metadata": {},
   "outputs": [],
   "source": []
  },
  {
   "cell_type": "code",
   "execution_count": null,
   "id": "6f088237",
   "metadata": {},
   "outputs": [],
   "source": []
  }
 ],
 "metadata": {
  "kernelspec": {
   "display_name": "Python 3",
   "language": "python",
   "name": "python3"
  },
  "language_info": {
   "codemirror_mode": {
    "name": "ipython",
    "version": 3
   },
   "file_extension": ".py",
   "mimetype": "text/x-python",
   "name": "python",
   "nbconvert_exporter": "python",
   "pygments_lexer": "ipython3",
   "version": "3.13.7"
  }
 },
 "nbformat": 4,
 "nbformat_minor": 5
}
