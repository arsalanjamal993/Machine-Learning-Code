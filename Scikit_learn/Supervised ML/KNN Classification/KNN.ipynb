{
 "cells": [
  {
   "cell_type": "code",
   "execution_count": null,
   "id": "73f2c4a6",
   "metadata": {},
   "outputs": [],
   "source": [
    "from sklearn.neighbors import KNeighborsClassifier\n",
    "# Features (X): [weight, size]\n",
    "X = [\n",
    "    [180, 7.1],   # Apple\n",
    "    [200, 7.5],   # Apple\n",
    "    [250, 8.0],   # Orange\n",
    "    [300, 8.5],   # Orange\n",
    "    [330, 9.0],   # Orange\n",
    "    [360, 9.5]    # Orange\n",
    "]\n",
    "\n",
    "# Labels (y): 0 = Apple, 1 = Orange\n",
    "y = [0, 0, 1, 1, 1, 1]\n",
    "\n",
    "model = KNeighborsClassifier(n_neighbors= 3)\n",
    "\n",
    "model.fit(X, y)\n",
    "\n",
    "weight = float(input(\"Enter the weight in grams: \"))\n",
    "size = float(input(\"Enter the size in cm: \"))\n",
    "\n",
    "prediction = model.predict([[weight, size]])[0]\n",
    "\n",
    "if prediction == 0:\n",
    "    print(\"This is likely an apple\")\n",
    "\n",
    "else:\n",
    "    print(\"This is likely an orange\")"
   ]
  },
  {
   "cell_type": "code",
   "execution_count": null,
   "id": "0267b62e",
   "metadata": {},
   "outputs": [],
   "source": [
    "from sklearn.neighbors import KNeighborsClassifier\n",
    "\n",
    "# Training data\n",
    "X = [\n",
    "    [180, 7.1],   # Apple\n",
    "    [200, 7.5],   # Apple\n",
    "    [250, 8.0],   # Orange\n",
    "    [300, 8.5],   # Orange\n",
    "    [330, 9.0],   # Orange\n",
    "    [360, 9.5]    # Orange\n",
    "]\n",
    "y = [0, 0, 1, 1, 1, 1]\n",
    "\n",
    "model = KNeighborsClassifier(n_neighbors=2)\n",
    "\n",
    "model.fit(X,y)\n",
    "\n",
    "weight = float(input(\"Enter the weight in grams: \"))\n",
    "size = float(input(\"Enter the size in cm: \"))\n",
    "\n",
    "prediction = model.predict([[weight, size]])[0]\n",
    "\n",
    "if prediction == 0:\n",
    "    print(\"You are likely an apple\")\n",
    "\n",
    "else:\n",
    "    print(\"Your are likely an orange\")"
   ]
  }
 ],
 "metadata": {
  "kernelspec": {
   "display_name": "Python 3",
   "language": "python",
   "name": "python3"
  },
  "language_info": {
   "codemirror_mode": {
    "name": "ipython",
    "version": 3
   },
   "file_extension": ".py",
   "mimetype": "text/x-python",
   "name": "python",
   "nbconvert_exporter": "python",
   "pygments_lexer": "ipython3",
   "version": "3.13.7"
  }
 },
 "nbformat": 4,
 "nbformat_minor": 5
}
