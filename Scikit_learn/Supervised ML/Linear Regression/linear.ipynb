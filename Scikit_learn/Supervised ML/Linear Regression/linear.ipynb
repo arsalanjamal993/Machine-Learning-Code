{
 "cells": [
  {
   "cell_type": "code",
   "execution_count": 7,
   "id": "87be37ff",
   "metadata": {},
   "outputs": [
    {
     "name": "stdout",
     "output_type": "stream",
     "text": [
      "Based on your study hours 2.0, you may score around 49.50\n"
     ]
    }
   ],
   "source": [
    "from sklearn.linear_model import LinearRegression\n",
    "\n",
    "# Data\n",
    "x = [[1], [2], [3], [4], [5]]\n",
    "y = [40, 50, 60, 65, 70]\n",
    "\n",
    "# Create model instance\n",
    "model = LinearRegression()\n",
    "\n",
    "# Train the model\n",
    "model.fit(x, y)\n",
    "\n",
    "# Take user input\n",
    "hours = float(input(\"Enter how many hours you studied = \"))\n",
    "\n",
    "# Predict score\n",
    "predicted_marks = model.predict([[hours]])\n",
    "print(f\"Based on your study hours {hours}, you may score around {predicted_marks[0]:.2f}\")\n"
   ]
  }
 ],
 "metadata": {
  "kernelspec": {
   "display_name": "Python 3",
   "language": "python",
   "name": "python3"
  },
  "language_info": {
   "codemirror_mode": {
    "name": "ipython",
    "version": 3
   },
   "file_extension": ".py",
   "mimetype": "text/x-python",
   "name": "python",
   "nbconvert_exporter": "python",
   "pygments_lexer": "ipython3",
   "version": "3.13.7"
  }
 },
 "nbformat": 4,
 "nbformat_minor": 5
}
