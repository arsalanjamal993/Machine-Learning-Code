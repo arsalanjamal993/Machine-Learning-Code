{
 "cells": [
  {
   "cell_type": "code",
   "execution_count": null,
   "id": "089ec624",
   "metadata": {},
   "outputs": [],
   "source": [
    "from sklearn.metrics  import accuracy_score, precision_score, recall_score, f1_score\n",
    "\n",
    "# True answers  (what actually happened)\n",
    "y_true = [1, 0, 1, 1, 0, 1, 0]\n",
    "\n",
    "# Model's predictions (what is guessed)\n",
    "y_pred  = [1, 0, 1, 0, 0, 1, 1]\n",
    "\n",
    "# Evaluation\n",
    "print(\"Accuracy: \", accuracy_score(y_true, y_pred))\n",
    "print(\"Precision: \", precision_score(y_true, y_pred))\n",
    "print(\"Recall: \", recall_score(y_true, y_pred))\n",
    "print(\"F1 Score: \", f1_score(y_true, y_pred))\n"
   ]
  },
  {
   "cell_type": "code",
   "execution_count": 8,
   "id": "c8fc2d0b",
   "metadata": {},
   "outputs": [
    {
     "name": "stdout",
     "output_type": "stream",
     "text": [
      "Confusion Metrics\n",
      "[[1 3]\n",
      " [3 3]]\n"
     ]
    }
   ],
   "source": [
    "from sklearn.metrics import confusion_matrix\n",
    "\n",
    "y_true = [1,0,1,1,0,0,1,0,1,1]\n",
    "y_pred = [1,0,1,0,1,1,0,1,0,1]\n",
    "\n",
    "cm = confusion_matrix(y_true,y_pred)\n",
    "\n",
    "\n",
    "print(\"Confusion Metrics\")\n",
    "print(cm)"
   ]
  },
  {
   "cell_type": "code",
   "execution_count": 13,
   "id": "570787d1",
   "metadata": {},
   "outputs": [
    {
     "name": "stdout",
     "output_type": "stream",
     "text": [
      "MAE: On average off by:  5.0\n",
      "MSE: Square Mistake Value:  100.0\n",
      "RMSE: Final Realistic Error:  10.0\n"
     ]
    }
   ],
   "source": [
    "'''\n",
    "# MEAN ABSOLUTE ERROR\n",
    "1- take the mistake difference\n",
    "2- remove the minus sign\n",
    "3- add\n",
    "4- divide\n",
    "7.5 on average\n",
    "# MSE Mean Squared Error\n",
    "1- Mistakes square them\n",
    "2- add\n",
    "3- divide total\n",
    "MSE 62.5\n",
    "# RMSE Root Mean Squared Error\n",
    "''' \n",
    "\n",
    "from sklearn.metrics import mean_absolute_error,mean_squared_error,root_mean_squared_error\n",
    "import numpy as np \n",
    "\n",
    "# Real Scores\n",
    "real_scores = [85,70,50,95]\n",
    "\n",
    "# Model Guess\n",
    "predicted_scores = [85,70,70,95]\n",
    "\n",
    "mae = mean_absolute_error(real_scores,predicted_scores)\n",
    "mse = mean_squared_error(real_scores,predicted_scores)\n",
    "\n",
    "rmse = np.sqrt(mse)\n",
    "\n",
    "print(\"MAE: On average off by: \", mae)\n",
    "print(\"MSE: Square Mistake Value: \", mse)\n",
    "print(\"RMSE: Final Realistic Error: \", rmse)"
   ]
  }
 ],
 "metadata": {
  "kernelspec": {
   "display_name": "Python 3",
   "language": "python",
   "name": "python3"
  },
  "language_info": {
   "codemirror_mode": {
    "name": "ipython",
    "version": 3
   },
   "file_extension": ".py",
   "mimetype": "text/x-python",
   "name": "python",
   "nbconvert_exporter": "python",
   "pygments_lexer": "ipython3",
   "version": "3.13.7"
  }
 },
 "nbformat": 4,
 "nbformat_minor": 5
}
